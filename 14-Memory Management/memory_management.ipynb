{
 "cells": [
  {
   "cell_type": "markdown",
   "metadata": {
    "vscode": {
     "languageId": "plaintext"
    }
   },
   "source": [
    "## Memory Management\n",
    "\n",
    "\n",
    "- Memory Management in Python involves a combination of automatic garbage collection, reference counting, and various internal optimizations to efficiently manage memory allocation and deallocation.\n",
    "- Understanding them can help developers write more efficient and robust applications.\n",
    "\n",
    "1. Key conceots in Memory Management\n",
    "2. Memory Allocation and Deallocation\n",
    "3. Reference Counting\n",
    "4. Garbage Collection\n",
    "5. The gc module \n",
    "6. Memory Management Best Practices"
   ]
  },
  {
   "cell_type": "markdown",
   "metadata": {},
   "source": [
    "##### Reference Counting:\n",
    "- Primary method Python uses to manage memory.\n",
    "- Each object in Python maintains a count of references pointing to it.\n",
    "- When the reference count drops to zero, the memory occupies by the object is deallocated."
   ]
  },
  {
   "cell_type": "code",
   "execution_count": 4,
   "metadata": {},
   "outputs": [
    {
     "name": "stdout",
     "output_type": "stream",
     "text": [
      "2\n"
     ]
    }
   ],
   "source": [
    "import sys\n",
    "a=[]\n",
    "## 2 (one reference from 'a' and one from getrefcount())\n",
    "print(sys.getrefcount(a))"
   ]
  },
  {
   "cell_type": "code",
   "execution_count": 5,
   "metadata": {},
   "outputs": [
    {
     "name": "stdout",
     "output_type": "stream",
     "text": [
      "3\n"
     ]
    }
   ],
   "source": [
    "b=a\n",
    "print(sys.getrefcount(b))"
   ]
  },
  {
   "cell_type": "code",
   "execution_count": 9,
   "metadata": {},
   "outputs": [
    {
     "name": "stdout",
     "output_type": "stream",
     "text": [
      "2\n"
     ]
    }
   ],
   "source": [
    "# del b\n",
    "print(sys.getrefcount(a))"
   ]
  },
  {
   "cell_type": "markdown",
   "metadata": {},
   "source": [
    "##### Garbage Collection\n",
    "\n",
    "- Python includes a cyclic garbage collector to handle reference cycles.\n",
    "- Reference cycles occur when objects reference each other, preventing their reference counts from reaching zero."
   ]
  },
  {
   "cell_type": "code",
   "execution_count": 10,
   "metadata": {},
   "outputs": [],
   "source": [
    "import gc\n",
    "\n",
    "## Enable garbage collection\n",
    "gc.enable()"
   ]
  },
  {
   "cell_type": "code",
   "execution_count": null,
   "metadata": {},
   "outputs": [],
   "source": [
    "gc.disable()"
   ]
  },
  {
   "cell_type": "code",
   "execution_count": 11,
   "metadata": {},
   "outputs": [
    {
     "data": {
      "text/plain": [
       "815"
      ]
     },
     "execution_count": 11,
     "metadata": {},
     "output_type": "execute_result"
    }
   ],
   "source": [
    "gc.collect()"
   ]
  },
  {
   "cell_type": "code",
   "execution_count": 12,
   "metadata": {},
   "outputs": [
    {
     "name": "stdout",
     "output_type": "stream",
     "text": [
      "[{'collections': 191, 'collected': 1962, 'uncollectable': 0}, {'collections': 17, 'collected': 1269, 'uncollectable': 0}, {'collections': 2, 'collected': 815, 'uncollectable': 0}]\n"
     ]
    }
   ],
   "source": [
    "### Get garbage collection stats\n",
    "print(gc.get_stats())"
   ]
  },
  {
   "cell_type": "code",
   "execution_count": 14,
   "metadata": {},
   "outputs": [
    {
     "name": "stdout",
     "output_type": "stream",
     "text": [
      "[]\n"
     ]
    }
   ],
   "source": [
    "## Get unreachable objects\n",
    "print(gc.garbage)"
   ]
  },
  {
   "cell_type": "markdown",
   "metadata": {},
   "source": [
    "##### Garbage Collection\n",
    "\n",
    "1. Use Local Variables: Local variables have a shorter lifespan and are freed sooner than global Variables\n",
    "2. Avoid Circular References: Circular references can load to memory leaks if not properly managed.else\n",
    "3. Use Generators: Generators produce items one at a time and only keep one item in memory at a time, making them memory efficient.\n",
    "4. Explicitly Delete Objects: Use the del statements to delete variables and objects explicitly.\n",
    "5. Profile Memory Usage: Use memory profiling tools like tracemalloc and memory_profiler to identify memory leaks and optimize memory uasge."
   ]
  },
  {
   "cell_type": "code",
   "execution_count": 25,
   "metadata": {},
   "outputs": [
    {
     "name": "stdout",
     "output_type": "stream",
     "text": [
      "Object obj1 created\n",
      "Object obj2 created\n",
      "Object obj1 deleted\n",
      "Object obj2 deleted\n"
     ]
    },
    {
     "data": {
      "text/plain": [
       "9"
      ]
     },
     "execution_count": 25,
     "metadata": {},
     "output_type": "execute_result"
    }
   ],
   "source": [
    "# Handling circular reference\n",
    "import gc\n",
    "\n",
    "class MyObject:\n",
    "    def __init__(self, name):\n",
    "        self.name=name\n",
    "        print(f\"Object {self.name} created\")\n",
    "\n",
    "    def __del__(self):\n",
    "        print(f\"Object {self.name} deleted\")\n",
    "\n",
    "## Created circular references\n",
    "obj1=MyObject(\"obj1\")\n",
    "obj2=MyObject(\"obj2\")\n",
    "obj1.ref=obj2\n",
    "obj2.ref=obj1\n",
    "\n",
    "del obj1\n",
    "del obj2\n",
    "\n",
    "## Manually trigger the garbage collection\n",
    "gc.collect()\n",
    "\n"
   ]
  },
  {
   "cell_type": "code",
   "execution_count": 26,
   "metadata": {},
   "outputs": [
    {
     "name": "stdout",
     "output_type": "stream",
     "text": [
      "0\n",
      "1\n",
      "2\n",
      "3\n",
      "4\n",
      "5\n",
      "6\n",
      "7\n",
      "8\n",
      "9\n",
      "10\n",
      "11\n"
     ]
    }
   ],
   "source": [
    "### Generators for memory efficiency\n",
    "# Generators allows you to produce items one at a time, using memory efficientl by only keeping one item in the memory at a time.\n",
    "\n",
    "def generate_numbers(n):\n",
    "    for i in range(n):\n",
    "        yield i\n",
    "\n",
    "## Using the generator\n",
    "for num in generate_numbers(100000):\n",
    "    print(num)\n",
    "    if num>10:\n",
    "        break"
   ]
  },
  {
   "cell_type": "code",
   "execution_count": 29,
   "metadata": {},
   "outputs": [],
   "source": [
    "## Profiling memory usage with tracemalloc\n",
    "import tracemalloc\n",
    "\n",
    "def create_list():\n",
    "    return [i for i in range(10000)]\n",
    "\n",
    "def main():\n",
    "    tracemalloc.start()\n",
    "\n",
    "    create_list()\n",
    "\n",
    "    snapshot=tracemalloc.take_snapshot()\n",
    "    top_stats=snapshot.statistics('lineno')\n",
    "\n",
    "    print(\"[ Top 10 ]\")\n",
    "    for stat in top_stats[::]:\n",
    "        print(stat)"
   ]
  },
  {
   "cell_type": "code",
   "execution_count": 30,
   "metadata": {},
   "outputs": [
    {
     "name": "stdout",
     "output_type": "stream",
     "text": [
      "[ Top 10 ]\n",
      "c:\\Users\\Dell\\Desktop\\Python_udemy\\venv\\Lib\\selectors.py:314: size=288 KiB, count=6, average=48.0 KiB\n",
      "c:\\Users\\Dell\\Desktop\\Python_udemy\\venv\\Lib\\json\\decoder.py:353: size=2548 B, count=34, average=75 B\n",
      "C:\\Users\\Dell\\AppData\\Roaming\\Python\\Python312\\site-packages\\zmq\\sugar\\attrsettr.py:45: size=1363 B, count=29, average=47 B\n",
      "C:\\Users\\Dell\\AppData\\Roaming\\Python\\Python312\\site-packages\\traitlets\\traitlets.py:731: size=1303 B, count=21, average=62 B\n",
      "c:\\Users\\Dell\\Desktop\\Python_udemy\\venv\\Lib\\codeop.py:118: size=1197 B, count=9, average=133 B\n",
      "C:\\Users\\Dell\\AppData\\Roaming\\Python\\Python312\\site-packages\\IPython\\core\\compilerop.py:174: size=1096 B, count=15, average=73 B\n",
      "C:\\Users\\Dell\\AppData\\Roaming\\Python\\Python312\\site-packages\\zmq\\sugar\\socket.py:805: size=1056 B, count=6, average=176 B\n",
      "C:\\Users\\Dell\\AppData\\Roaming\\Python\\Python312\\site-packages\\traitlets\\traitlets.py:1543: size=1027 B, count=17, average=60 B\n",
      "C:\\Users\\Dell\\AppData\\Roaming\\Python\\Python312\\site-packages\\traitlets\\traitlets.py:1514: size=960 B, count=8, average=120 B\n",
      "C:\\Users\\Dell\\AppData\\Roaming\\Python\\Python312\\site-packages\\IPython\\core\\compilerop.py:86: size=859 B, count=11, average=78 B\n",
      "C:\\Users\\Dell\\AppData\\Roaming\\Python\\Python312\\site-packages\\jupyter_client\\session.py:1057: size=806 B, count=6, average=134 B\n",
      "c:\\Users\\Dell\\Desktop\\Python_udemy\\venv\\Lib\\threading.py:272: size=760 B, count=2, average=380 B\n",
      "C:\\Users\\Dell\\AppData\\Roaming\\Python\\Python312\\site-packages\\jupyter_client\\jsonutil.py:111: size=750 B, count=15, average=50 B\n",
      "c:\\Users\\Dell\\Desktop\\Python_udemy\\venv\\Lib\\asyncio\\events.py:84: size=576 B, count=5, average=115 B\n",
      "C:\\Users\\Dell\\AppData\\Roaming\\Python\\Python312\\site-packages\\IPython\\core\\interactiveshell.py:3104: size=520 B, count=4, average=130 B\n",
      "C:\\Users\\Dell\\AppData\\Roaming\\Python\\Python312\\site-packages\\ipykernel\\kernelbase.py:775: size=424 B, count=2, average=212 B\n",
      "C:\\Users\\Dell\\AppData\\Roaming\\Python\\Python312\\site-packages\\IPython\\core\\history.py:782: size=424 B, count=2, average=212 B\n",
      "C:\\Users\\Dell\\AppData\\Roaming\\Python\\Python312\\site-packages\\jupyter_client\\jsonutil.py:75: size=416 B, count=2, average=208 B\n",
      "C:\\Users\\Dell\\AppData\\Roaming\\Python\\Python312\\site-packages\\IPython\\core\\interactiveshell.py:3334: size=376 B, count=1, average=376 B\n",
      "C:\\Users\\Dell\\AppData\\Roaming\\Python\\Python312\\site-packages\\IPython\\core\\history.py:836: size=360 B, count=5, average=72 B\n",
      "C:\\Users\\Dell\\AppData\\Roaming\\Python\\Python312\\site-packages\\ipykernel\\ipkernel.py:362: size=360 B, count=1, average=360 B\n",
      "c:\\Users\\Dell\\Desktop\\Python_udemy\\venv\\Lib\\threading.py:269: size=344 B, count=3, average=115 B\n",
      "c:\\Users\\Dell\\Desktop\\Python_udemy\\venv\\Lib\\asyncio\\base_events.py:792: size=312 B, count=3, average=104 B\n",
      "C:\\Users\\Dell\\AppData\\Roaming\\Python\\Python312\\site-packages\\IPython\\core\\interactiveshell.py:3517: size=296 B, count=1, average=296 B\n",
      "c:\\Users\\Dell\\Desktop\\Python_udemy\\venv\\Lib\\asyncio\\base_events.py:427: size=288 B, count=2, average=144 B\n",
      "C:\\Users\\Dell\\AppData\\Roaming\\Python\\Python312\\site-packages\\tornado\\queues.py:248: size=288 B, count=2, average=144 B\n",
      "C:\\Users\\Dell\\AppData\\Roaming\\Python\\Python312\\site-packages\\ipykernel\\iostream.py:527: size=272 B, count=4, average=68 B\n",
      "C:\\Users\\Dell\\AppData\\Roaming\\Python\\Python312\\site-packages\\ipykernel\\kernelbase.py:534: size=264 B, count=1, average=264 B\n",
      "C:\\Users\\Dell\\AppData\\Roaming\\Python\\Python312\\site-packages\\ipykernel\\kernelbase.py:435: size=248 B, count=1, average=248 B\n",
      "C:\\Users\\Dell\\AppData\\Roaming\\Python\\Python312\\site-packages\\ipykernel\\iostream.py:121: size=248 B, count=1, average=248 B\n",
      "c:\\Users\\Dell\\Desktop\\Python_udemy\\venv\\Lib\\inspect.py:265: size=240 B, count=2, average=120 B\n",
      "C:\\Users\\Dell\\AppData\\Roaming\\Python\\Python312\\site-packages\\ipykernel\\iostream.py:346: size=240 B, count=2, average=120 B\n",
      "C:\\Users\\Dell\\AppData\\Roaming\\Python\\Python312\\site-packages\\ipykernel\\iostream.py:287: size=240 B, count=2, average=120 B\n",
      "c:\\Users\\Dell\\Desktop\\Python_udemy\\venv\\Lib\\logging\\__init__.py:1622: size=240 B, count=1, average=240 B\n",
      "C:\\Users\\Dell\\AppData\\Roaming\\Python\\Python312\\site-packages\\ipykernel\\kernelbase.py:545: size=232 B, count=1, average=232 B\n",
      "C:\\Users\\Dell\\AppData\\Roaming\\Python\\Python312\\site-packages\\ipykernel\\zmqshell.py:549: size=224 B, count=3, average=75 B\n",
      "C:\\Users\\Dell\\AppData\\Roaming\\Python\\Python312\\site-packages\\IPython\\core\\interactiveshell.py:3223: size=208 B, count=4, average=52 B\n",
      "C:\\Users\\Dell\\AppData\\Roaming\\Python\\Python312\\site-packages\\jupyter_client\\session.py:1085: size=208 B, count=1, average=208 B\n",
      "C:\\Users\\Dell\\AppData\\Roaming\\Python\\Python312\\site-packages\\ipykernel\\kernelbase.py:770: size=208 B, count=1, average=208 B\n",
      "C:\\Users\\Dell\\AppData\\Roaming\\Python\\Python312\\site-packages\\ipykernel\\compiler.py:91: size=202 B, count=2, average=101 B\n",
      "c:\\Users\\Dell\\Desktop\\Python_udemy\\venv\\Lib\\asyncio\\futures.py:418: size=200 B, count=5, average=40 B\n",
      "C:\\Users\\Dell\\AppData\\Roaming\\Python\\Python312\\site-packages\\zmq\\sugar\\socket.py:802: size=176 B, count=1, average=176 B\n",
      "c:\\Users\\Dell\\Desktop\\Python_udemy\\venv\\Lib\\asyncio\\futures.py:394: size=160 B, count=1, average=160 B\n",
      "c:\\Users\\Dell\\Desktop\\Python_udemy\\venv\\Lib\\asyncio\\futures.py:387: size=160 B, count=1, average=160 B\n",
      "c:\\Users\\Dell\\Desktop\\Python_udemy\\venv\\Lib\\asyncio\\futures.py:381: size=160 B, count=1, average=160 B\n",
      "C:\\Users\\Dell\\AppData\\Roaming\\Python\\Python312\\site-packages\\ipykernel\\kernelbase.py:570: size=160 B, count=1, average=160 B\n",
      "C:\\Users\\Dell\\AppData\\Roaming\\Python\\Python312\\site-packages\\IPython\\core\\interactiveshell.py:3577: size=160 B, count=1, average=160 B\n",
      "C:\\Users\\Dell\\AppData\\Roaming\\Python\\Python312\\site-packages\\IPython\\core\\interactiveshell.py:3493: size=160 B, count=1, average=160 B\n",
      "C:\\Users\\Dell\\AppData\\Roaming\\Python\\Python312\\site-packages\\IPython\\core\\interactiveshell.py:3237: size=160 B, count=1, average=160 B\n",
      "C:\\Users\\Dell\\AppData\\Local\\Temp\\ipykernel_5148\\658486888.py:7: size=160 B, count=1, average=160 B\n",
      "C:\\Users\\Dell\\AppData\\Local\\Temp\\ipykernel_5148\\658486888.py:4: size=160 B, count=1, average=160 B\n",
      "C:\\Users\\Dell\\AppData\\Roaming\\Python\\Python312\\site-packages\\IPython\\core\\interactiveshell.py:3224: size=144 B, count=4, average=36 B\n",
      "C:\\Users\\Dell\\AppData\\Roaming\\Python\\Python312\\site-packages\\tornado\\platform\\asyncio.py:235: size=144 B, count=2, average=72 B\n",
      "C:\\Users\\Dell\\AppData\\Roaming\\Python\\Python312\\site-packages\\ipykernel\\iostream.py:722: size=144 B, count=2, average=72 B\n",
      "c:\\Users\\Dell\\Desktop\\Python_udemy\\venv\\Lib\\threading.py:121: size=120 B, count=2, average=60 B\n",
      "C:\\Users\\Dell\\AppData\\Roaming\\Python\\Python312\\site-packages\\ipykernel\\kernelbase.py:318: size=120 B, count=2, average=60 B\n",
      "c:\\Users\\Dell\\Desktop\\Python_udemy\\venv\\Lib\\asyncio\\base_events.py:755: size=120 B, count=1, average=120 B\n",
      "C:\\Users\\Dell\\AppData\\Roaming\\Python\\Python312\\site-packages\\ipykernel\\iostream.py:276: size=120 B, count=1, average=120 B\n",
      "C:\\Users\\Dell\\AppData\\Roaming\\Python\\Python312\\site-packages\\jupyter_client\\session.py:989: size=111 B, count=2, average=56 B\n",
      "C:\\Users\\Dell\\AppData\\Roaming\\Python\\Python312\\site-packages\\dateutil\\parser\\isoparser.py:146: size=96 B, count=2, average=48 B\n",
      "C:\\Users\\Dell\\AppData\\Roaming\\Python\\Python312\\site-packages\\IPython\\core\\interactiveshell.py:3375: size=96 B, count=2, average=48 B\n",
      "C:\\Users\\Dell\\AppData\\Roaming\\Python\\Python312\\site-packages\\IPython\\core\\history.py:805: size=90 B, count=2, average=45 B\n",
      "c:\\Users\\Dell\\Desktop\\Python_udemy\\venv\\Lib\\threading.py:271: size=72 B, count=1, average=72 B\n",
      "c:\\Users\\Dell\\Desktop\\Python_udemy\\venv\\Lib\\threading.py:267: size=72 B, count=1, average=72 B\n",
      "c:\\Users\\Dell\\Desktop\\Python_udemy\\venv\\Lib\\threading.py:262: size=72 B, count=1, average=72 B\n",
      "c:\\Users\\Dell\\Desktop\\Python_udemy\\venv\\Lib\\threading.py:261: size=72 B, count=1, average=72 B\n",
      "C:\\Users\\Dell\\AppData\\Roaming\\Python\\Python312\\site-packages\\IPython\\core\\history.py:851: size=72 B, count=1, average=72 B\n",
      "C:\\Users\\Dell\\AppData\\Roaming\\Python\\Python312\\site-packages\\IPython\\core\\history.py:834: size=72 B, count=1, average=72 B\n",
      "C:\\Users\\Dell\\AppData\\Roaming\\Python\\Python312\\site-packages\\tornado\\queues.py:318: size=64 B, count=2, average=32 B\n",
      "C:\\Users\\Dell\\AppData\\Roaming\\Python\\Python312\\site-packages\\IPython\\core\\interactiveshell.py:3509: size=64 B, count=2, average=32 B\n",
      "C:\\Users\\Dell\\AppData\\Roaming\\Python\\Python312\\site-packages\\zmq\\sugar\\socket.py:806: size=64 B, count=1, average=64 B\n",
      "C:\\Users\\Dell\\AppData\\Roaming\\Python\\Python312\\site-packages\\jupyter_client\\jsonutil.py:73: size=64 B, count=1, average=64 B\n",
      "C:\\Users\\Dell\\AppData\\Roaming\\Python\\Python312\\site-packages\\ipykernel\\ipkernel.py:449: size=64 B, count=1, average=64 B\n",
      "C:\\Users\\Dell\\AppData\\Roaming\\Python\\Python312\\site-packages\\ipykernel\\ipkernel.py:384: size=64 B, count=1, average=64 B\n",
      "C:\\Users\\Dell\\AppData\\Roaming\\Python\\Python312\\site-packages\\ipykernel\\ipkernel.py:383: size=64 B, count=1, average=64 B\n",
      "C:\\Users\\Dell\\AppData\\Roaming\\Python\\Python312\\site-packages\\ipykernel\\ipkernel.py:294: size=64 B, count=1, average=64 B\n",
      "C:\\Users\\Dell\\AppData\\Roaming\\Python\\Python312\\site-packages\\ipykernel\\ipkernel.py:291: size=64 B, count=1, average=64 B\n",
      "C:\\Users\\Dell\\AppData\\Roaming\\Python\\Python312\\site-packages\\decorator.py:232: size=64 B, count=1, average=64 B\n",
      "C:\\Users\\Dell\\AppData\\Roaming\\Python\\Python312\\site-packages\\IPython\\core\\interactiveshell.py:3566: size=64 B, count=1, average=64 B\n",
      "C:\\Users\\Dell\\AppData\\Roaming\\Python\\Python312\\site-packages\\IPython\\core\\interactiveshell.py:3303: size=64 B, count=1, average=64 B\n",
      "C:\\Users\\Dell\\AppData\\Roaming\\Python\\Python312\\site-packages\\IPython\\core\\interactiveshell.py:3300: size=64 B, count=1, average=64 B\n",
      "C:\\Users\\Dell\\AppData\\Roaming\\Python\\Python312\\site-packages\\IPython\\core\\interactiveshell.py:3498: size=56 B, count=1, average=56 B\n",
      "c:\\Users\\Dell\\Desktop\\Python_udemy\\venv\\Lib\\concurrent\\futures\\_base.py:330: size=48 B, count=1, average=48 B\n",
      "C:\\Users\\Dell\\AppData\\Roaming\\Python\\Python312\\site-packages\\jupyter_client\\session.py:200: size=48 B, count=1, average=48 B\n",
      "C:\\Users\\Dell\\AppData\\Roaming\\Python\\Python312\\site-packages\\IPython\\core\\interactiveshell.py:3505: size=48 B, count=1, average=48 B\n",
      "C:\\Users\\Dell\\AppData\\Roaming\\Python\\Python312\\site-packages\\IPython\\core\\history.py:835: size=48 B, count=1, average=48 B\n",
      "C:\\Users\\Dell\\AppData\\Roaming\\Python\\Python312\\site-packages\\IPython\\core\\prefilter.py:317: size=47 B, count=1, average=47 B\n",
      "c:\\Users\\Dell\\Desktop\\Python_udemy\\venv\\Lib\\queue.py:151: size=32 B, count=1, average=32 B\n",
      "c:\\Users\\Dell\\Desktop\\Python_udemy\\venv\\Lib\\concurrent\\futures\\_base.py:421: size=32 B, count=1, average=32 B\n",
      "c:\\Users\\Dell\\Desktop\\Python_udemy\\venv\\Lib\\asyncio\\base_events.py:1935: size=32 B, count=1, average=32 B\n",
      "c:\\Users\\Dell\\Desktop\\Python_udemy\\venv\\Lib\\asyncio\\base_events.py:758: size=32 B, count=1, average=32 B\n",
      "C:\\Users\\Dell\\AppData\\Roaming\\Python\\Python312\\site-packages\\jupyter_client\\session.py:996: size=32 B, count=1, average=32 B\n",
      "C:\\Users\\Dell\\AppData\\Roaming\\Python\\Python312\\site-packages\\jupyter_client\\session.py:603: size=32 B, count=1, average=32 B\n",
      "C:\\Users\\Dell\\AppData\\Roaming\\Python\\Python312\\site-packages\\ipykernel\\iostream.py:637: size=32 B, count=1, average=32 B\n",
      "C:\\Users\\Dell\\AppData\\Roaming\\Python\\Python312\\site-packages\\IPython\\core\\interactiveshell.py:3503: size=32 B, count=1, average=32 B\n",
      "C:\\Users\\Dell\\AppData\\Roaming\\Python\\Python312\\site-packages\\IPython\\core\\history.py:793: size=32 B, count=1, average=32 B\n",
      "C:\\Users\\Dell\\AppData\\Roaming\\Python\\Python312\\site-packages\\IPython\\core\\compilerop.py:192: size=32 B, count=1, average=32 B\n",
      "C:\\Users\\Dell\\AppData\\Roaming\\Python\\Python312\\site-packages\\ipykernel\\kernelbase.py:560: size=28 B, count=1, average=28 B\n",
      "C:\\Users\\Dell\\AppData\\Roaming\\Python\\Python312\\site-packages\\IPython\\core\\compilerop.py:172: size=28 B, count=1, average=28 B\n",
      "C:\\Users\\Dell\\AppData\\Roaming\\Python\\Python312\\site-packages\\IPython\\core\\interactiveshell.py:3485: size=8 B, count=1, average=8 B\n"
     ]
    }
   ],
   "source": [
    "main()"
   ]
  }
 ],
 "metadata": {
  "kernelspec": {
   "display_name": "venv",
   "language": "python",
   "name": "python3"
  },
  "language_info": {
   "codemirror_mode": {
    "name": "ipython",
    "version": 3
   },
   "file_extension": ".py",
   "mimetype": "text/x-python",
   "name": "python",
   "nbconvert_exporter": "python",
   "pygments_lexer": "ipython3",
   "version": "3.12.0"
  }
 },
 "nbformat": 4,
 "nbformat_minor": 2
}
